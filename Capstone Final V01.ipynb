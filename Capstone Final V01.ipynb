{
 "cells": [
  {
   "cell_type": "markdown",
   "metadata": {},
   "source": [
    "# IBM Applied Data Science Specialization - Capstone Project\n",
    "# Moving to a similar neighborhood"
   ]
  },
  {
   "cell_type": "markdown",
   "metadata": {},
   "source": [
    "## Definition of the problem and objective"
   ]
  },
  {
   "cell_type": "markdown",
   "metadata": {},
   "source": [
    "The approach of my project is based on the fact that I am going to move from Mexico City to Madrid. I want to use the techniques learned in the course to find neighborhoods in Madrid that have the same types of attractions and places of interest (venues) as those in the neighborhood where I currently live.\n",
    "\n",
    "To do this, I will collect the places of interest of my current neighborhood using the Foursquare API, and then I will explore the venues for each of the neighborhoods of Madrid. Finally, I will use KMEANS to find neighborhoods in Madrid similar to my current neighborhood in terms of the places of interest found on Foursquare."
   ]
  },
  {
   "cell_type": "markdown",
   "metadata": {},
   "source": [
    "## Data to be use to solve the problem"
   ]
  },
  {
   "cell_type": "markdown",
   "metadata": {},
   "source": [
    "### For my current location"
   ]
  },
  {
   "cell_type": "markdown",
   "metadata": {},
   "source": [
    "I live in a neighborhood in Mexico City called \"Coyoacan\". First I will use **Nominatim** from **geopy.geocoders** library to get the latitude and longitude for this neighborhood.\n",
    "\n",
    "Then I will use the Foursquare API with the **explore** endpoint to get recommended venues near my current location. I will limit the search to a radius of 1000 meters and 100 venues at most.\n",
    "- GET https://api.foursquare.com/v2/venues/explore"
   ]
  },
  {
   "cell_type": "markdown",
   "metadata": {},
   "source": [
    "### For Madrid"
   ]
  },
  {
   "cell_type": "markdown",
   "metadata": {},
   "source": [
    "To get data from Madrid neighborhoods I will use data from [Portal de datos abiertos del Ayuntamiento de Madrid](https://datos.madrid.es/portal/site/egob/). Specifically I will download a CSV file titled [Relación de barrios (superficie y perímetro)](https://datos.madrid.es/portal/site/egob/menuitem.c05c1f754a33a9fbe4b2e4b284f1a5a0/?vgnextoid=46b55cde99be2410VgnVCM1000000b205a0aRCRD&vgnextchannel=374512b9ace9f310VgnVCM100000171f5a0aRCRD&vgnextfmt=default). \n",
    "\n",
    "This file is a list of Districts and Neighborhoods in Madrid. \n",
    "\n",
    "I will geocode each neighborhood using **Nominatim** from **geopy.geocoders**.\n",
    "\n",
    "Then again, I will use the Foursquare API with the **explore** endpoint to get the recommended venues for each neighborhood (using radius of 1000 meters and limit of 100 venues per neighborhood)."
   ]
  },
  {
   "cell_type": "markdown",
   "metadata": {},
   "source": [
    "### To find similar neighborhoods"
   ]
  },
  {
   "cell_type": "markdown",
   "metadata": {},
   "source": [
    "I will put together data form my current neighborhood to the data from Madrid neighborhoods. I will transform the data in the same way we did in the exercises from previous weeks. Finally, I will use KMEANS to find neighborhoods in Madrid similar to my current neighborhood in Mexico City."
   ]
  },
  {
   "cell_type": "code",
   "execution_count": null,
   "metadata": {
    "collapsed": true
   },
   "outputs": [],
   "source": []
  }
 ],
 "metadata": {
  "kernelspec": {
   "display_name": "Python 3",
   "language": "python",
   "name": "python3"
  },
  "language_info": {
   "codemirror_mode": {
    "name": "ipython",
    "version": 3
   },
   "file_extension": ".py",
   "mimetype": "text/x-python",
   "name": "python",
   "nbconvert_exporter": "python",
   "pygments_lexer": "ipython3",
   "version": "3.6.2"
  }
 },
 "nbformat": 4,
 "nbformat_minor": 2
}
